{
 "cells": [
  {
   "cell_type": "markdown",
   "metadata": {},
   "source": [
    "# Sentence Embeddings\n",
    "Just like how words can be converted to vectors, so can sentences"
   ]
  },
  {
   "cell_type": "code",
   "execution_count": 3,
   "metadata": {},
   "outputs": [],
   "source": [
    "import os\n",
    "import numpy as np\n",
    "import pandas as pd\n",
    "from sklearn.decomposition import PCA\n",
    "import gensim\n",
    "import gensim.downloader\n",
    "import json\n",
    "\n",
    "from utils import *"
   ]
  },
  {
   "cell_type": "markdown",
   "metadata": {},
   "source": [
    "## Sentence Embeddings\n",
    "There are a variety of ways to embed entire sentences. \n",
    "\n",
    "- take the average of all of the words' embedding\n",
    "- use a more sophisticated embedding model like BERT\n",
    "\n",
    "### Average the word embeddings\n",
    "The simplest way is to take the embedding of each word then average them together. This seems silly, but it is pretty effective. "
   ]
  },
  {
   "cell_type": "code",
   "execution_count": 4,
   "metadata": {},
   "outputs": [
    {
     "name": "stdout",
     "output_type": "stream",
     "text": [
      "loaded from binary: models/word2vec-google-news-300.bin\n"
     ]
    }
   ],
   "source": [
    "# Use small local model \n",
    "model_name = 'word2vec-google-news-300'\n",
    "# model_name = 'glove-twitter-100'\n",
    "w2v_model = load_model(model_name)"
   ]
  },
  {
   "cell_type": "code",
   "execution_count": 20,
   "metadata": {},
   "outputs": [],
   "source": [
    "def embed_sentence_average(sentence, w2v_model):\n",
    "    \"\"\"Creates sentence embedding based on the average of the words' embeddings\"\"\"\n",
    "    # split sentence into words\n",
    "    words = sentence.split()\n",
    "    \n",
    "    # make array of embeddings, one row for each word\n",
    "    embeddings = np.array([w2v_model[w.lower()] for w in words if w in w2v_model])\n",
    "    \n",
    "    # average over the rows (axis = 0)\n",
    "    average_embedding = embeddings.mean(axis = 0)\n",
    "    \n",
    "    return average_embedding\n",
    "\n",
    "def cosine_similarity(A, B):\n",
    "    \"\"\"Calculates the cosine similarity of 2 vectors A,B\"\"\"\n",
    "    dot_product = np.dot(A, B)\n",
    "    magnitude_A = np.linalg.norm(A)\n",
    "    magnitude_B = np.linalg.norm(B)\n",
    "    return dot_product / (magnitude_A * magnitude_B)"
   ]
  },
  {
   "cell_type": "code",
   "execution_count": 21,
   "metadata": {},
   "outputs": [
    {
     "data": {
      "text/plain": [
       "(300,)"
      ]
     },
     "execution_count": 21,
     "metadata": {},
     "output_type": "execute_result"
    }
   ],
   "source": [
    "sentence = \"I love cookies\"\n",
    "embedding = embed_sentence_average(sentence, w2v_model)\n",
    "embedding.shape"
   ]
  },
  {
   "cell_type": "code",
   "execution_count": 22,
   "metadata": {},
   "outputs": [
    {
     "data": {
      "text/plain": [
       "0.7167495"
      ]
     },
     "execution_count": 22,
     "metadata": {},
     "output_type": "execute_result"
    }
   ],
   "source": [
    "sentence_1 = \"I love cookies\"\n",
    "sentence_2 = \"cookies are my favorite\"\n",
    "\n",
    "embedding_1 = embed_sentence_average(sentence_1, w2v_model)\n",
    "embedding_2 = embed_sentence_average(sentence_2, w2v_model)\n",
    "\n",
    "cosine_similarity(embedding_1, embedding_2)"
   ]
  },
  {
   "cell_type": "code",
   "execution_count": 23,
   "metadata": {},
   "outputs": [
    {
     "data": {
      "text/plain": [
       "0.1749812"
      ]
     },
     "execution_count": 23,
     "metadata": {},
     "output_type": "execute_result"
    }
   ],
   "source": [
    "sentence_1 = \"I love cookies\"\n",
    "sentence_2 = \"that car is speeding in the school zone\"\n",
    "\n",
    "embedding_1 = embed_sentence_average(sentence_1, w2v_model)\n",
    "embedding_2 = embed_sentence_average(sentence_2, w2v_model)\n",
    "\n",
    "cosine_similarity(embedding_1, embedding_2)"
   ]
  },
  {
   "cell_type": "code",
   "execution_count": 24,
   "metadata": {},
   "outputs": [
    {
     "data": {
      "text/plain": [
       "0.24969348"
      ]
     },
     "execution_count": 24,
     "metadata": {},
     "output_type": "execute_result"
    }
   ],
   "source": [
    "# note that we can also use gensim's n_similarity() funtion to do the same\n",
    "w2v_model.n_similarity(sentence_1.split(),sentence_2.split())"
   ]
  },
  {
   "cell_type": "code",
   "execution_count": 45,
   "metadata": {},
   "outputs": [
    {
     "data": {
      "text/html": [
       "<iframe\n",
       "    scrolling=\"no\"\n",
       "    width=\"720px\"\n",
       "    height=\"620\"\n",
       "    src=\"iframe_figures/figure_45.html\"\n",
       "    frameborder=\"0\"\n",
       "    allowfullscreen\n",
       "></iframe>\n"
      ]
     },
     "metadata": {},
     "output_type": "display_data"
    }
   ],
   "source": [
    "# Let's visualize defferent sentence embeddings in a PCA-reduced 3d space\n",
    "sentences = [\n",
    "    \"cookies are my favorite\",\n",
    "    \"cookies are a glorious dessert\",\n",
    "    \"my, how I love biscuits\",\n",
    "    \"I am a huge cookie lover\",\n",
    "    \"Cookies are delicious\",\n",
    "    # \"my dad ate all the pie\", \n",
    "    # \"could you make me some sandwiches\", \n",
    "    # \"did you eat all the dessert\", \n",
    "    # \"where is the remote\", \n",
    "    \"the tv is on\",\n",
    "    \"summer vacation is coming\",\n",
    "    \"where should we go on vacation\",\n",
    "    \"the motorcycle can go very fast\", \n",
    "    \"that car speeding in the school zone\"\n",
    "]\n",
    "embeddings = [embed_sentence_average(sentence, w2v_model) for sentence in sentences]\n",
    "embeddings_reduced = reduce_dimensions(embeddings)\n",
    "plot_embeddings(embeddings_reduced, sentences, title=\"Average sentence embeddings (reduced to 3D)\")"
   ]
  },
  {
   "cell_type": "code",
   "execution_count": 46,
   "metadata": {},
   "outputs": [
    {
     "name": "stdout",
     "output_type": "stream",
     "text": [
      "Similarity between I love cookies and :\n",
      "\t0.72 : cookies are my favorite\n",
      "\t0.66 : cookies are a glorious dessert\n",
      "\t0.79 : my, how I love biscuits\n",
      "\t0.73 : I am a huge cookie lover\n",
      "\t0.67 : Cookies are delicious\n",
      "\t0.31 : the tv is on\n",
      "\t0.19 : summer vacation is coming\n",
      "\t0.31 : where should we go on vacation\n",
      "\t0.29 : the motorcycle can go very fast\n",
      "\t0.17 : that car speeding in the school zone\n"
     ]
    }
   ],
   "source": [
    "# similarity between one word and many others\n",
    "sentence = \"I love cookies\"\n",
    "embedding = embed_sentence_average(sentence, w2v_model)\n",
    "\n",
    "\n",
    "\n",
    "print(f\"Similarity between {sentence} and :\")\n",
    "for other_sentence in sentences:\n",
    "    other_embedding = embed_sentence_average(other_sentence, w2v_model)\n",
    "    similarity = cosine_similarity(embedding, other_embedding)\n",
    "    print(f\"\\t{similarity:.2f} : {other_sentence}\")"
   ]
  },
  {
   "cell_type": "code",
   "execution_count": null,
   "metadata": {},
   "outputs": [],
   "source": []
  },
  {
   "cell_type": "markdown",
   "metadata": {},
   "source": [
    "### Limitations of average embeddings\n",
    "A drawback is that this method does not take into account the order of the words, which is very important to the meaning."
   ]
  },
  {
   "cell_type": "code",
   "execution_count": 27,
   "metadata": {},
   "outputs": [
    {
     "data": {
      "text/plain": [
       "1.0"
      ]
     },
     "execution_count": 27,
     "metadata": {},
     "output_type": "execute_result"
    }
   ],
   "source": [
    "sentence_1 = \"I love cats and hate dogs\"\n",
    "sentence_2 = \"I love dogs and hate cats\"\n",
    "w2v_model.n_similarity(sentence_1.split(),sentence_2.split())"
   ]
  },
  {
   "cell_type": "code",
   "execution_count": 28,
   "metadata": {},
   "outputs": [
    {
     "data": {
      "text/plain": [
       "1.0"
      ]
     },
     "execution_count": 28,
     "metadata": {},
     "output_type": "execute_result"
    }
   ],
   "source": [
    "embedding_1 = embed_sentence_average(sentence_1, w2v_model)\n",
    "embedding_2 = embed_sentence_average(sentence_2, w2v_model)\n",
    "\n",
    "cosine_similarity(embedding_1, embedding_2)"
   ]
  },
  {
   "cell_type": "code",
   "execution_count": null,
   "metadata": {},
   "outputs": [],
   "source": []
  },
  {
   "cell_type": "code",
   "execution_count": null,
   "metadata": {},
   "outputs": [],
   "source": []
  },
  {
   "cell_type": "markdown",
   "metadata": {},
   "source": [
    "## Advanced methods\n",
    "We can use a language model to predict the next word in a sentence. \n",
    "\n",
    "Here we will a sentence transformer embedding model that can be run locally using the Transformers library. The process is a little involved and we won't get into it here. This will produce a 768-dimension embedding vector."
   ]
  },
  {
   "cell_type": "code",
   "execution_count": null,
   "metadata": {},
   "outputs": [],
   "source": []
  },
  {
   "cell_type": "code",
   "execution_count": null,
   "metadata": {},
   "outputs": [],
   "source": []
  },
  {
   "cell_type": "code",
   "execution_count": 55,
   "metadata": {},
   "outputs": [
    {
     "name": "stderr",
     "output_type": "stream",
     "text": [
      "C:\\Users\\Trevor_Kinsey\\miniconda3\\envs\\edu\\Lib\\site-packages\\huggingface_hub\\file_download.py:1132: FutureWarning:\n",
      "\n",
      "`resume_download` is deprecated and will be removed in version 1.0.0. Downloads always resume when possible. If you want to force a new download, use `force_download=True`.\n",
      "\n"
     ]
    }
   ],
   "source": [
    "from sentence_transformers import SentenceTransformer\n",
    "model = SentenceTransformer(\"all-MiniLM-L6-v2\")"
   ]
  },
  {
   "cell_type": "code",
   "execution_count": 56,
   "metadata": {},
   "outputs": [
    {
     "data": {
      "text/plain": [
       "(384,)"
      ]
     },
     "execution_count": 56,
     "metadata": {},
     "output_type": "execute_result"
    }
   ],
   "source": [
    "sentence = \"I love cats and hate dogs\"\n",
    "\n",
    "\n",
    "embeddings1 = model.encode(sentence)\n",
    "embeddings1.shape\n",
    "# similarities = model.similarity(embeddings1, embeddings2)"
   ]
  },
  {
   "cell_type": "code",
   "execution_count": 57,
   "metadata": {},
   "outputs": [
    {
     "data": {
      "text/plain": [
       "tensor([[1.0000]])"
      ]
     },
     "execution_count": 57,
     "metadata": {},
     "output_type": "execute_result"
    }
   ],
   "source": [
    "sentence_1 = \"I love cats and hate dogs\"\n",
    "# sentence_2 = \"I don't like dogs and love cats\"\n",
    "# sentence_2 = \"I don't like dogs and love cats\"\n",
    "sentence_2 = \"eat my shorts\"\n",
    "# sentence_2 = \"I love dogs and hate cats\"\n",
    "\n",
    "embedding_1 = model.encode(sentence_1)\n",
    "embedding_2 = model.encode(sentence_1)\n",
    "\n",
    "similarity = model.similarity(embedding_1, embedding_2)\n",
    "similarity"
   ]
  },
  {
   "cell_type": "code",
   "execution_count": 47,
   "metadata": {},
   "outputs": [
    {
     "name": "stdout",
     "output_type": "stream",
     "text": [
      "Similarity between I love cookies and :\n",
      "\t0.88 : cookies are my favorite\n",
      "\t0.73 : cookies are a glorious dessert\n",
      "\t0.60 : my, how I love biscuits\n",
      "\t0.77 : I am a huge cookie lover\n",
      "\t0.82 : Cookies are delicious\n",
      "\t-0.04 : the tv is on\n",
      "\t0.11 : summer vacation is coming\n",
      "\t0.10 : where should we go on vacation\n",
      "\t0.07 : the motorcycle can go very fast\n",
      "\t0.01 : that car speeding in the school zone\n"
     ]
    }
   ],
   "source": [
    "# similarity between one word and many others\n",
    "sentence = \"I love cookies\"\n",
    "embedding = model.encode(sentence)\n",
    "\n",
    "print(f\"Similarity between {sentence} and :\")\n",
    "for other_sentence in sentences:\n",
    "    other_embedding = model.encode(other_sentence)\n",
    "    similarity = cosine_similarity(embedding, other_embedding)\n",
    "    print(f\"\\t{similarity:.2f} : {other_sentence}\")"
   ]
  },
  {
   "cell_type": "markdown",
   "metadata": {},
   "source": [
    "## Retrieval\n",
    "The concept of similarity is useful in the context of retrieval augmented generation (RAG). \n",
    "Rag is useful when you have a lot of documents that you would like to ask questions of with an LLM. Typicaly the LLM has no knowledge of your documents so you need to *retrieve* the relevant info from your documents and send it to the LLM\n",
    "\n",
    "The idea is you ask a question, embed the question, then retrieve your documents that are closest to "
   ]
  },
  {
   "cell_type": "code",
   "execution_count": 20,
   "metadata": {},
   "outputs": [],
   "source": [
    "pokemon_info = [\n",
    "{\n",
    "\"name\": \"Pikachu\",\n",
    "\"description\": \"Pikachu is an iconic Electric-type Pokémon resembling a yellow mouse. It has red cheeks that store electricity and a lightning bolt-shaped tail. Pikachu is known for its ability to generate powerful electric shocks. It's the mascot of the Pokémon franchise and a popular starter Pokémon for many trainers.\"\n",
    "},\n",
    "{\n",
    "\"name\": \"Charizard\",\n",
    "\"description\": \"Charizard is a powerful Fire/Flying-type Pokémon that evolves from Charmeleon. It resembles a large, orange dragon with wings and a flame burning at the tip of its tail. Charizard can breathe intense flames and fly at great speeds. It's known for its fierce battles and loyalty to its trainer.\"\n",
    "},\n",
    "{\n",
    "\"name\": \"Mewtwo\",\n",
    "\"description\": \"Mewtwo is a legendary Psychic-type Pokémon created through genetic manipulation. It has a humanoid appearance with feline features and immense psychic powers. Mewtwo is known for its intelligence, powerful abilities, and complex backstory. It's often portrayed as a conflicted and misunderstood character in the Pokémon universe.\"\n",
    "},\n",
    "{\n",
    "\"name\": \"Bulbasaur\",\n",
    "\"description\": \"Bulbasaur is a Grass/Poison-type Pokémon that's one of the original starter choices. It has a plant bulb on its back that grows as it evolves. Bulbasaur can use its vines for various tasks and absorb sunlight for energy. It's known for its gentle nature and versatility in battle.\"\n",
    "},\n",
    "{\n",
    "\"name\": \"Gyarados\",\n",
    "\"description\": \"Gyarados is a fearsome Water/Flying-type Pokémon that evolves from the seemingly weak Magikarp. It resembles a large, serpentine dragon with a gaping mouth. Gyarados is known for its destructive power and ability to cause massive storms. It represents the concept of perseverance and hidden potential.\"\n",
    "},\n",
    "{\n",
    "\"name\": \"Snorlax\",\n",
    "\"description\": \"Snorlax is a large, round Normal-type Pokémon known for its sleeping habits. It spends most of its time eating and sleeping, only moving to find more food. Despite its lazy appearance, Snorlax is incredibly strong and can be a formidable opponent in battle. It's often used as a roadblock in Pokémon games.\"\n",
    "},\n",
    "{\n",
    "\"name\": \"Eevee\",\n",
    "\"description\": \"Eevee is a Normal-type Pokémon famous for its multiple evolution possibilities. It has a fox-like appearance with large ears and a fluffy tail. Eevee can evolve into eight different forms, each representing a different type. This unique trait makes it a popular and versatile Pokémon among trainers.\"\n",
    "},\n",
    "{\n",
    "\"name\": \"Gengar\",\n",
    "\"description\": \"Gengar is a Ghost/Poison-type Pokémon with a mischievous nature. It has a round body, red eyes, and a wide, toothy grin. Gengar is known for its ability to hide in shadows and create illusions. It's often associated with pranks and haunting, making it a favorite among ghost-type enthusiasts.\"\n",
    "},\n",
    "{\n",
    "\"name\": \"Meowth\",\n",
    "\"description\": \"Meowth is a Normal-type Pokémon resembling a cat with a coin-like charm on its forehead. It's known for its love of shiny objects and its ability to speak human language in the anime. Meowth is often associated with Team Rocket and is famous for its cunning nature and get-rich-quick schemes.\"\n",
    "},\n",
    "{\n",
    "\"name\": \"Jigglypuff\",\n",
    "\"description\": \"Jigglypuff is a Normal/Fairy-type Pokémon known for its singing ability. It has a round, pink body with large blue eyes. Jigglypuff's song can put anyone to sleep, which it often uses in battle. It becomes frustrated when others fall asleep during its performances and draws on their faces.\"\n",
    "},\n",
    "{\n",
    "\"name\": \"Alakazam\",\n",
    "\"description\": \"Alakazam is a Psychic-type Pokémon with extraordinary mental capabilities. It has a humanoid appearance with a large mustache and holds two spoons to focus its psychic powers. Alakazam is said to have an IQ of 5,000 and can remember everything since its birth. It's known for its powerful psychic attacks and strategic battling.\"\n",
    "},\n",
    "{\n",
    "\"name\": \"Machamp\",\n",
    "\"description\": \"Machamp is a muscular Fighting-type Pokémon with four arms. It's known for its incredible strength and martial arts skills. Machamp can throw a thousand punches in two seconds and move mountains with its bare hands. It's often seen as a symbol of physical power in the Pokémon world.\"\n",
    "},\n",
    "{\n",
    "\"name\": \"Lapras\",\n",
    "\"description\": \"Lapras is a Water/Ice-type Pokémon resembling a plesiosaur with a shell on its back. It's known for its gentle nature and ability to understand human speech. Lapras can ferry people across bodies of water and is often associated with legends and folklore. It's highly intelligent and has a beautiful singing voice.\"\n",
    "},\n",
    "{\n",
    "\"name\": \"Ditto\",\n",
    "\"description\": \"Ditto is a Normal-type Pokémon with the unique ability to transform into any other Pokémon. In its natural state, it appears as a pink blob with a simple face. Ditto can copy not only the appearance but also the abilities of other Pokémon. This makes it invaluable for breeding and a tricky opponent in battles.\"\n",
    "},\n",
    "{\n",
    "\"name\": \"Magikarp\",\n",
    "\"description\": \"Magikarp is a Water-type Pokémon infamous for being weak and useless in battle. It resembles a large, orange fish and is known for its inability to learn many moves. However, Magikarp evolves into the powerful Gyarados, embodying the theme of hidden potential. It's often used as an example of how seemingly weak Pokémon can become strong.\"\n",
    "},\n",
    "{\n",
    "\"name\": \"Dragonite\",\n",
    "\"description\": \"Dragonite is a powerful Dragon/Flying-type Pokémon with a friendly appearance. It resembles a large, orange dragon with small wings. Despite its intimidating size, Dragonite is known for its gentle and helpful nature. It can fly around the world in just 16 hours and is said to live in the sea.\"\n",
    "},\n",
    "{\n",
    "\"name\": \"Mew\",\n",
    "\"description\": \"Mew is a Mythical Psychic-type Pokémon said to contain the genetic code of all Pokémon. It has a small, pink body with large eyes and a long tail. Mew is known for its playful nature and ability to learn any move. It's extremely rare and is often the subject of scientific research in the Pokémon world.\"\n",
    "},\n",
    "{\n",
    "\"name\": \"Articuno\",\n",
    "\"description\": \"Articuno is a Legendary Ice/Flying-type Pokémon resembling a majestic blue bird. It's said to control ice and can create blizzards by flapping its wings. Articuno is one of the three Legendary birds of Kanto and is associated with winter and freezing temperatures. Its appearance is said to bring good luck to those who see it.\"\n",
    "},\n",
    "{\n",
    "\"name\": \"Scyther\",\n",
    "\"description\": \"Scyther is a Bug/Flying-type Pokémon known for its speed and sharp blades. It has a green, insectoid body with scythe-like forearms. Scyther is a skilled hunter that can slice through thick logs with its blades. It's often found in grasslands and is respected for its ninja-like agility.\"\n",
    "},\n",
    "{\n",
    "\"name\": \"Cubone\",\n",
    "\"description\": \"Cubone is a Ground-type Pokémon known for wearing a skull helmet. It carries a bone as a weapon and is often associated with loneliness and loss. Cubone is said to be mourning its deceased mother, whose skull it wears. Despite its sad backstory, it's a loyal and determined Pokémon in battle.\"\n",
    "},\n",
    "{\n",
    "\"name\": \"Vaporeon\",\n",
    "\"description\": \"Vaporeon is a Water-type evolution of Eevee. It has a fish-like appearance with fins and a mermaid-like tail. Vaporeon can melt into water, becoming invisible, and has the ability to control water molecules. It's often found near clean water sources and is known for its graceful swimming abilities.\"\n",
    "},\n",
    "{\n",
    "\"name\": \"Metagross\",\n",
    "\"description\": \"Metagross is a powerful Steel/Psychic-type Pokémon with a body made of steel. It has four legs and a massive, disc-like body with a large X on its face. Metagross is known for its high intelligence, possessing four brains that can perform complex calculations. It's often seen as one of the strongest non-legendary Pokémon.\"\n",
    "},\n",
    "{\n",
    "\"name\": \"Lucario\",\n",
    "\"description\": \"Lucario is a Fighting/Steel-type Pokémon known for its ability to sense and manipulate aura. It has a canine-like appearance with spike protrusions on its body. Lucario is highly intelligent and can communicate telepathically with humans. It's often associated with concepts of loyalty and justice in the Pokémon world.\"\n",
    "},\n",
    "{\n",
    "\"name\": \"Gardevoir\",\n",
    "\"description\": \"Gardevoir is a Psychic/Fairy-type Pokémon known for its elegance and protective nature. It has a humanoid appearance with a flowing gown-like lower body. Gardevoir can create small black holes and is said to be able to see the future. It forms a strong bond with its trainer and will protect them at all costs.\"\n",
    "},\n",
    "{\n",
    "\"name\": \"Tyranitar\",\n",
    "\"description\": \"Tyranitar is a Rock/Dark-type Pokémon resembling a large, armored tyrannosaurus. It's known for its immense strength and ability to topple mountains. Tyranitar's body is as hard as rock, and it's often compared to Godzilla in appearance. It's considered a pseudo-legendary Pokémon due to its power and rarity.\"\n",
    "},\n",
    "{\n",
    "\"name\": \"Rayquaza\",\n",
    "\"description\": \"Rayquaza is a Legendary Dragon/Flying-type Pokémon that resembles a large, green serpentine dragon. It's said to live in the ozone layer and has the ability to calm conflicts between Kyogre and Groudon. Rayquaza is known for its power over the weather and its role as a guardian of the sky.\"\n",
    "},\n",
    "{\n",
    "\"name\": \"Blaziken\",\n",
    "\"description\": \"Blaziken is a Fire/Fighting-type Pokémon that evolves from Combusken. It has a bird-like appearance with powerful legs and fiery wrists. Blaziken is known for its incredible jumping ability and powerful kicks that can shatter skyscrapers. It's often seen as a representation of determination and fighting spirit.\"\n",
    "},\n",
    "{\n",
    "\"name\": \"Wobbuffet\",\n",
    "\"description\": \"Wobbuffet is a Psychic-type Pokémon known for its defensive abilities. It has a blue, blob-like body with squinty eyes and a black tail with eye-like markings. Wobbuffet doesn't generally attack first but instead counters enemy moves. It's famous for its catchphrase 'Wobbuffet!' in the anime and its comical personality.\"\n",
    "},\n",
    "{\n",
    "\"name\": \"Absol\",\n",
    "\"description\": \"Absol is a Dark-type Pokémon often associated with disasters. It has a quadruped form with a scythe-like growth on its head. Absol is known for appearing before natural disasters, leading to it being mistakenly viewed as a harbinger of doom. In reality, it tries to warn people of impending danger.\"\n",
    "}\n",
    "]\n",
    "for item in pokemon_info:\n",
    "    item['description'] = item[\"description\"].replace(\"é\",\"e\")\n",
    "with open(\"data/pokemon.json\", \"w\") as f:\n",
    "    json.dump(pokemon_info, f, indent = 2)"
   ]
  },
  {
   "cell_type": "code",
   "execution_count": null,
   "metadata": {},
   "outputs": [],
   "source": []
  },
  {
   "cell_type": "code",
   "execution_count": 21,
   "metadata": {},
   "outputs": [],
   "source": [
    "def retrieve_most_similar(query, names, descriptions, embeddings, n=5):\n",
    "    \"\"\"\n",
    "    Retrieves the most similar items to a given query based on their embeddings.\n",
    "\n",
    "    Parameters:\n",
    "    query (str): The query to compare against.\n",
    "    names (List[str]): The names of the items.\n",
    "    descriptions (List[str]): The descriptions of the items.\n",
    "    embeddings (List[np.ndarray]): The embeddings of the items.\n",
    "    n (int, optional): The number of most similar items to return. Defaults to 5.\n",
    "\n",
    "    Returns:\n",
    "    pd.DataFrame: A DataFrame sorted by similarity to the query, containing the top n most similar items.\n",
    "    \"\"\"\n",
    "    embedded_query = model.encode(query)\n",
    "    similarities = []\n",
    "    for embedding in embeddings:\n",
    "        similarities.append(cosine_similarity(embedded_query, embedding))\n",
    "    df = pd.DataFrame({\n",
    "        \"similarity\": similarities,\n",
    "        \"name\": names,\n",
    "        \"description\": descriptions\n",
    "    })\n",
    "    return df.sort_values(\"similarity\", ascending = False).head(n)"
   ]
  },
  {
   "cell_type": "code",
   "execution_count": null,
   "metadata": {},
   "outputs": [],
   "source": []
  },
  {
   "cell_type": "code",
   "execution_count": 22,
   "metadata": {},
   "outputs": [
    {
     "data": {
      "text/plain": [
       "{'name': 'Pikachu',\n",
       " 'description': \"Pikachu is an iconic Electric-type Pokemon resembling a yellow mouse. It has red cheeks that store electricity and a lightning bolt-shaped tail. Pikachu is known for its ability to generate powerful electric shocks. It's the mascot of the Pokemon franchise and a popular starter Pokemon for many trainers.\"}"
      ]
     },
     "execution_count": 22,
     "metadata": {},
     "output_type": "execute_result"
    }
   ],
   "source": [
    "with open(\"data/pokemon.json\") as f:\n",
    "    pokemon_info = json.load(f)\n",
    "\n",
    "pokemon_info[0]"
   ]
  },
  {
   "cell_type": "code",
   "execution_count": 23,
   "metadata": {},
   "outputs": [],
   "source": [
    "names = [item[\"name\"] for item in pokemon_info]\n",
    "descriptions = [item[\"description\"] for item in pokemon_info]\n",
    "embeddings = [model.encode(item[\"description\"]) for item in pokemon_info]"
   ]
  },
  {
   "cell_type": "code",
   "execution_count": 26,
   "metadata": {},
   "outputs": [
    {
     "name": "stdout",
     "output_type": "stream",
     "text": [
      "query: 'which pokemon can fly?'\n"
     ]
    },
    {
     "data": {
      "text/html": [
       "<div>\n",
       "<style scoped>\n",
       "    .dataframe tbody tr th:only-of-type {\n",
       "        vertical-align: middle;\n",
       "    }\n",
       "\n",
       "    .dataframe tbody tr th {\n",
       "        vertical-align: top;\n",
       "    }\n",
       "\n",
       "    .dataframe thead th {\n",
       "        text-align: right;\n",
       "    }\n",
       "</style>\n",
       "<table border=\"1\" class=\"dataframe\">\n",
       "  <thead>\n",
       "    <tr style=\"text-align: right;\">\n",
       "      <th></th>\n",
       "      <th>similarity</th>\n",
       "      <th>name</th>\n",
       "      <th>description</th>\n",
       "    </tr>\n",
       "  </thead>\n",
       "  <tbody>\n",
       "    <tr>\n",
       "      <th>1</th>\n",
       "      <td>0.481414</td>\n",
       "      <td>Charizard</td>\n",
       "      <td>Charizard is a powerful Fire/Flying-type Pokem...</td>\n",
       "    </tr>\n",
       "    <tr>\n",
       "      <th>26</th>\n",
       "      <td>0.461601</td>\n",
       "      <td>Blaziken</td>\n",
       "      <td>Blaziken is a Fire/Fighting-type Pokemon that ...</td>\n",
       "    </tr>\n",
       "    <tr>\n",
       "      <th>14</th>\n",
       "      <td>0.461312</td>\n",
       "      <td>Magikarp</td>\n",
       "      <td>Magikarp is a Water-type Pokemon infamous for ...</td>\n",
       "    </tr>\n",
       "    <tr>\n",
       "      <th>4</th>\n",
       "      <td>0.449819</td>\n",
       "      <td>Gyarados</td>\n",
       "      <td>Gyarados is a fearsome Water/Flying-type Pokem...</td>\n",
       "    </tr>\n",
       "    <tr>\n",
       "      <th>15</th>\n",
       "      <td>0.449307</td>\n",
       "      <td>Dragonite</td>\n",
       "      <td>Dragonite is a powerful Dragon/Flying-type Pok...</td>\n",
       "    </tr>\n",
       "  </tbody>\n",
       "</table>\n",
       "</div>"
      ],
      "text/plain": [
       "    similarity       name                                        description\n",
       "1     0.481414  Charizard  Charizard is a powerful Fire/Flying-type Pokem...\n",
       "26    0.461601   Blaziken  Blaziken is a Fire/Fighting-type Pokemon that ...\n",
       "14    0.461312   Magikarp  Magikarp is a Water-type Pokemon infamous for ...\n",
       "4     0.449819   Gyarados  Gyarados is a fearsome Water/Flying-type Pokem...\n",
       "15    0.449307  Dragonite  Dragonite is a powerful Dragon/Flying-type Pok..."
      ]
     },
     "execution_count": 26,
     "metadata": {},
     "output_type": "execute_result"
    }
   ],
   "source": [
    "query = \"which pokemon can fly?\"\n",
    "print(f\"query: '{query}'\")\n",
    "df_similar = retrieve_most_similar(query, names, descriptions, embeddings, n=5)\n",
    "df_similar"
   ]
  },
  {
   "cell_type": "code",
   "execution_count": 27,
   "metadata": {},
   "outputs": [
    {
     "name": "stdout",
     "output_type": "stream",
     "text": [
      "1 Charizard is a powerful Fire/Flying-type Pokemon that evolves from Charmeleon. It resembles a large, orange dragon with wings and a flame burning at the tip of its tail. Charizard can breathe intense flames and fly at great speeds. It's known for its fierce battles and loyalty to its trainer. \n",
      "\n",
      "2 Blaziken is a Fire/Fighting-type Pokemon that evolves from Combusken. It has a bird-like appearance with powerful legs and fiery wrists. Blaziken is known for its incredible jumping ability and powerful kicks that can shatter skyscrapers. It's often seen as a representation of determination and fighting spirit. \n",
      "\n",
      "3 Magikarp is a Water-type Pokemon infamous for being weak and useless in battle. It resembles a large, orange fish and is known for its inability to learn many moves. However, Magikarp evolves into the powerful Gyarados, embodying the theme of hidden potential. It's often used as an example of how seemingly weak Pokemon can become strong. \n",
      "\n",
      "4 Gyarados is a fearsome Water/Flying-type Pokemon that evolves from the seemingly weak Magikarp. It resembles a large, serpentine dragon with a gaping mouth. Gyarados is known for its destructive power and ability to cause massive storms. It represents the concept of perseverance and hidden potential. \n",
      "\n",
      "5 Dragonite is a powerful Dragon/Flying-type Pokemon with a friendly appearance. It resembles a large, orange dragon with small wings. Despite its intimidating size, Dragonite is known for its gentle and helpful nature. It can fly around the world in just 16 hours and is said to live in the sea. \n",
      "\n"
     ]
    }
   ],
   "source": [
    "for i, description in enumerate(df_similar[\"description\"], start=1):\n",
    "    print(i, description, \"\\n\")"
   ]
  },
  {
   "cell_type": "code",
   "execution_count": 82,
   "metadata": {},
   "outputs": [],
   "source": [
    "# embeddings = [model.encode(info) for pokemon, info in pokemon_info.items()]\n",
    "# embeddings_reduced = reduce_dimensions(embeddings)\n",
    "# plot_embeddings(embeddings_reduced, pokemon_info.keys(), title=\"Pokemon (reduced to 3D)\")"
   ]
  },
  {
   "cell_type": "code",
   "execution_count": null,
   "metadata": {},
   "outputs": [],
   "source": []
  }
 ],
 "metadata": {
  "kernelspec": {
   "display_name": "Python [conda env:edu]",
   "language": "python",
   "name": "conda-env-edu-py"
  },
  "language_info": {
   "codemirror_mode": {
    "name": "ipython",
    "version": 3
   },
   "file_extension": ".py",
   "mimetype": "text/x-python",
   "name": "python",
   "nbconvert_exporter": "python",
   "pygments_lexer": "ipython3",
   "version": "3.12.3"
  },
  "widgets": {
   "application/vnd.jupyter.widget-state+json": {
    "state": {},
    "version_major": 2,
    "version_minor": 0
   }
  }
 },
 "nbformat": 4,
 "nbformat_minor": 4
}
