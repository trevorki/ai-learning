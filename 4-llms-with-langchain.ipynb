{
 "cells": [
  {
   "cell_type": "markdown",
   "id": "785db5e3-9049-4989-b256-76e09949195a",
   "metadata": {},
   "source": [
    "# LLMs with Langchain\n",
    "Langchain is a library that allows you to make working with LLMs easier. It has integrations with most of the main LLM providers, providing a consistent interface. This allows you to build applications using any LLM with the same code.\n",
    "\n",
    "*Note that langchain looks for API keys in environment variable by default, so if you have loaded `GROQ_API_KEY` using `dotenv` then you don't need to explicitly state it.*\n"
   ]
  },
  {
   "cell_type": "code",
   "execution_count": 32,
   "id": "de5e5d40-9e7d-4f20-9256-aba981f60844",
   "metadata": {},
   "outputs": [],
   "source": [
    "import os\n",
    "from dotenv import load_dotenv\n",
    "load_dotenv()\n",
    "\n",
    "from langchain_core.prompts import ChatPromptTemplate, SystemMessagePromptTemplate, HumanMessagePromptTemplate, AIMessagePromptTemplate\n",
    "from langchain_core.output_parsers import StrOutputParser, JsonOutputParser\n",
    "from langchain_groq import ChatGroq"
   ]
  },
  {
   "cell_type": "markdown",
   "id": "42691a32-63de-4e4e-a835-2768f6d08b73",
   "metadata": {},
   "source": [
    "## Invoking LLM with langchain\n",
    "You can invoke Groq using langchain with a simple user prompt."
   ]
  },
  {
   "cell_type": "code",
   "execution_count": 17,
   "id": "aaeb4597-595f-4005-89eb-8eb24f43b3cc",
   "metadata": {},
   "outputs": [
    {
     "data": {
      "text/plain": [
       "langchain_core.messages.ai.AIMessage"
      ]
     },
     "execution_count": 17,
     "metadata": {},
     "output_type": "execute_result"
    }
   ],
   "source": [
    "llm = ChatGroq(\n",
    "    temperature=0,\n",
    "    model=\"llama3-70b-8192\",\n",
    "    # api_key=\"<your_api_key>\" # not needed if stored as environment variable\n",
    ")\n",
    "completion = llm.invoke(\"what is the densest element?\")\n",
    "type(completion)"
   ]
  },
  {
   "cell_type": "markdown",
   "id": "917d77b5-a8e2-402f-b84a-1d65304b2a65",
   "metadata": {},
   "source": [
    "That is nice, it returns an `AIMessage` object. If we want the text output we can access it through the `.content`attribute."
   ]
  },
  {
   "cell_type": "code",
   "execution_count": 18,
   "id": "e36e7e22-8bea-47f5-be9f-253c2063833c",
   "metadata": {},
   "outputs": [
    {
     "data": {
      "text/plain": [
       "\"The densest element is generally considered to be osmium (Os), with a density of 22.59 g/cm³. Osmium is a hard, brittle, blue-gray or blue-black transition metal in the platinum group, and it is the densest naturally occurring element known.\\n\\nOsmium has a very high atomic mass (190.23 u) and a relatively small atomic radius, which contributes to its high density. In fact, osmium is about twice as dense as lead, which is often considered a very dense metal.\\n\\nHere's a comparison of the densities of some common elements to put osmium's density into perspective:\\n\\n* Osmium (Os): 22.59 g/cm³\\n* Lead (Pb): 11.34 g/cm³\\n* Gold (Au): 19.3 g/cm³\\n* Uranium (U): 19.1 g/cm³\\n* Tungsten (W): 19.3 g/cm³\\n\\nIt's worth noting that there are some synthetic elements, such as hassium (Hs) and meitnerium (Mt), that have even higher densities than osmium. However, these elements are not found naturally and are only produced in small quantities in laboratories.\\n\\nOverall, osmium's extremely high density is due to its unique combination of atomic mass and atomic radius, making it the densest naturally occurring element known.\""
      ]
     },
     "execution_count": 18,
     "metadata": {},
     "output_type": "execute_result"
    }
   ],
   "source": [
    "completion.content"
   ]
  },
  {
   "cell_type": "markdown",
   "id": "cee61be7-67ec-4409-b364-b5e9d060887d",
   "metadata": {},
   "source": [
    "# Output parsers\n",
    "\n",
    "Langchain has a bunch out output parsers, that will format the output for you into various formats.\n",
    "\n",
    "#### `StrOutputParser` will give you the completion formatted as a simple string"
   ]
  },
  {
   "cell_type": "code",
   "execution_count": 16,
   "id": "3467969d-2c86-4a97-9901-5789a4cde875",
   "metadata": {},
   "outputs": [
    {
     "data": {
      "text/plain": [
       "\"The densest element is generally considered to be osmium (Os), with a density of 22.59 g/cm³. Osmium is a hard, brittle, blue-gray or blue-black transition metal in the platinum group, and it is the densest naturally occurring element known.\\n\\nOsmium has a very high atomic mass (190.23 u) and a relatively small atomic radius, which contributes to its high density. In fact, osmium is about twice as dense as lead, which is often considered a very dense metal.\\n\\nHere's a comparison of the densities of some common elements to put osmium's density into perspective:\\n\\n* Osmium (Os): 22.59 g/cm³\\n* Lead (Pb): 11.34 g/cm³\\n* Gold (Au): 19.3 g/cm³\\n* Uranium (U): 19.1 g/cm³\\n* Tungsten (W): 19.3 g/cm³\\n\\nIt's worth noting that there are some synthetic elements, such as hassium (Hs) and meitnerium (Mt), that have even higher densities than osmium. However, these elements are not found naturally and are only produced in small quantities in laboratories.\\n\\nOverall, osmium's extremely high density is due to its unique combination of atomic mass and atomic radius, making it the densest naturally occurring element known.\""
      ]
     },
     "execution_count": 16,
     "metadata": {},
     "output_type": "execute_result"
    }
   ],
   "source": [
    "# StrOuputParser\n",
    "parser = StrOutputParser()\n",
    "parser.invoke(completion)"
   ]
  },
  {
   "cell_type": "markdown",
   "id": "eb448e55-7ae0-40ad-85ab-5b7d5c42ad89",
   "metadata": {},
   "source": [
    "### `JsonOutputParser` will extract the JSON from the completion and return as a dict"
   ]
  },
  {
   "cell_type": "code",
   "execution_count": 26,
   "id": "0609dfc4-66ea-44a5-96a0-dc098972b326",
   "metadata": {},
   "outputs": [
    {
     "data": {
      "text/plain": [
       "'Here is the data in JSON format:\\n\\n```\\n{\\n  \"name\": \"Daisy\",\\n  \"breed\": \"border collie\"\\n}\\n```'"
      ]
     },
     "execution_count": 26,
     "metadata": {},
     "output_type": "execute_result"
    }
   ],
   "source": [
    "# even if you ask for json you'll get some extra words\n",
    "completion = llm.invoke(\"Please return the following data in JSON format: name=Daisy, breed=border collie\")\n",
    "completion.content"
   ]
  },
  {
   "cell_type": "code",
   "execution_count": 27,
   "id": "d7d19298-3a58-424f-9fbb-36083127e6ad",
   "metadata": {},
   "outputs": [
    {
     "data": {
      "text/plain": [
       "{'name': 'Daisy', 'breed': 'border collie'}"
      ]
     },
     "execution_count": 27,
     "metadata": {},
     "output_type": "execute_result"
    }
   ],
   "source": [
    "parser = JsonOutputParser()\n",
    "parsed_completion = parser.invoke(completion)\n",
    "parsed_completion"
   ]
  },
  {
   "cell_type": "code",
   "execution_count": 28,
   "id": "80e2201b-e7fd-436d-b155-31aa08b390b3",
   "metadata": {},
   "outputs": [
    {
     "data": {
      "text/plain": [
       "'Daisy'"
      ]
     },
     "execution_count": 28,
     "metadata": {},
     "output_type": "execute_result"
    }
   ],
   "source": [
    "# It's a dictionary!\n",
    "parsed_completion[\"name\"]"
   ]
  },
  {
   "cell_type": "markdown",
   "id": "c8fd79e0-c76c-4bc0-a323-54d77417c197",
   "metadata": {},
   "source": [
    "## Langchain Chains\n",
    "Langchain's chains are a powerful feature that allows us to string together any `Runnable` components to make a chain that we can invoke with a simple command. \n",
    "\n",
    "They are built up using LangChain Expression Language (LCEL), whose syntax involves connection components with a pipe operator `|`.\n",
    "\n",
    "Here is a simple chain that generates a completion and formats the output as a string:"
   ]
  },
  {
   "cell_type": "code",
   "execution_count": 29,
   "id": "a2611e47-406d-4d15-909d-5ab28d99ef5a",
   "metadata": {},
   "outputs": [
    {
     "data": {
      "text/plain": [
       "\"In Python, a dictionary (also known as a hash table or associative array) is a built-in data type that stores a collection of key-value pairs. It is a mutable data structure, meaning it can be modified after creation.\\n\\nA dictionary consists of:\\n\\n1. **Keys**: Unique strings or integers that serve as identifiers for each value.\\n2. **Values**: The actual data associated with each key. Values can be of any data type, including strings, integers, lists, dictionaries, and more.\\n\\nHere's an example of a simple dictionary:\\n```python\\nperson = {'name': 'John', 'age': 30, ' occupation': 'Developer'}\\n```\\nIn this example, the dictionary `person` has three key-value pairs:\\n\\n* `name` is the key, and `John` is the value.\\n* `age` is the key, and `30` is the value.\\n* `occupation` is the key, and `Developer` is the value.\\n\\nYou can access and manipulate dictionary values using their corresponding keys. For example:\\n```python\\nprint(person['name'])  # Output: John\\nperson['age'] = 31  # Update the value associated with the 'age' key\\nprint(person)  # Output: {'name': 'John', 'age': 31, 'occupation': 'Developer'}\\n```\\nDictionaries are useful for storing and manipulating data in a flexible and efficient way. They are commonly used in Python programming for tasks such as:\\n\\n* Configuring applications\\n* Storing user data\\n* Representing complex data structures\\n* Caching results\\n* And many more!\\n\\nSome key features of Python dictionaries include:\\n\\n* **Fast lookups**: Dictionaries provide fast lookups, with an average time complexity of O(1).\\n* **Mutable**: Dictionaries can be modified after creation.\\n* **Dynamic typing**: Dictionary values can be of any data type.\\n* **Flexible key types**: Dictionary keys can be strings, integers, or any other hashable type.\\n\\nI hope this helps! Do you have any specific questions about dictionaries or Python in general?\""
      ]
     },
     "execution_count": 29,
     "metadata": {},
     "output_type": "execute_result"
    }
   ],
   "source": [
    "chain = llm | StrOutputParser()\n",
    "chain.invoke(\"What is a python dictionary?\")"
   ]
  },
  {
   "cell_type": "markdown",
   "id": "df1cc96e-be9e-463f-b4a0-b9b2d48fb5af",
   "metadata": {},
   "source": [
    "## Prompts and Prompt Templates\n",
    "So far we have just been invoking the LLM with just plain text. No explicit user or system prompt. Langchain has a prompt templates to make this easy to do.\n"
   ]
  },
  {
   "cell_type": "code",
   "execution_count": 54,
   "id": "141a7ccf-d2ba-44ed-a563-7d694f95556d",
   "metadata": {},
   "outputs": [
    {
     "data": {
      "text/plain": [
       "ChatPromptTemplate(input_variables=[], messages=[SystemMessagePromptTemplate(prompt=PromptTemplate(input_variables=[], template='You are a helpful assistant.')), HumanMessagePromptTemplate(prompt=PromptTemplate(input_variables=[], template='Tell me joke about baking.'))])"
      ]
     },
     "execution_count": 54,
     "metadata": {},
     "output_type": "execute_result"
    }
   ],
   "source": [
    "# messages are formatted as tuples (<message type>, \"<message content>\")\n",
    "messages = [\n",
    "    (\"system\", \"You are a helpful assistant.\"), \n",
    "    (\"human\", \"Tell me joke about baking.\")\n",
    "]\n",
    "ChatPromptTemplate.from_messages(messages)"
   ]
  },
  {
   "cell_type": "markdown",
   "id": "a45baa62-0f84-4d6e-a0d1-8bd60223f766",
   "metadata": {},
   "source": [
    "The prompt template allows you to make your prompts more dynamic by passing varibales to them without needing to re-write the prompt. \n",
    "\n",
    "Anything enclosed in `{}` will be interpreted as an input variable"
   ]
  },
  {
   "cell_type": "code",
   "execution_count": 39,
   "id": "466af5c8-60db-4958-95d3-e8bd09bf4ace",
   "metadata": {},
   "outputs": [
    {
     "data": {
      "text/plain": [
       "ChatPromptTemplate(input_variables=['content_type', 'subject'], messages=[SystemMessagePromptTemplate(prompt=PromptTemplate(input_variables=[], template='You are a helpful assistant.')), HumanMessagePromptTemplate(prompt=PromptTemplate(input_variables=['content_type', 'subject'], template='Tell me {content_type} about {subject}.'))])"
      ]
     },
     "execution_count": 39,
     "metadata": {},
     "output_type": "execute_result"
    }
   ],
   "source": [
    "messages = [\n",
    "    (\"system\", \"You are a helpful assistant.\"), \n",
    "    (\"human\", \"Tell me a {content_type} about {subject}.\")\n",
    "]\n",
    "prompt_template = ChatPromptTemplate.from_messages(messages)\n",
    "prompt_template"
   ]
  },
  {
   "cell_type": "code",
   "execution_count": 51,
   "id": "ca093088-2548-4024-b564-afcbf75d3fa8",
   "metadata": {},
   "outputs": [
    {
     "name": "stdout",
     "output_type": "stream",
     "text": [
      "System: You are a helpful assistant.\n",
      "Human: Tell me a joke about baking.\n"
     ]
    }
   ],
   "source": [
    "print(prompt_template.format(content_type=\"joke\", subject=\"baking\"))"
   ]
  },
  {
   "cell_type": "code",
   "execution_count": 53,
   "id": "c6d101f9-cc31-45da-b2c1-84525d0fe7ee",
   "metadata": {},
   "outputs": [
    {
     "name": "stdout",
     "output_type": "stream",
     "text": [
      "System: You are a helpful assistant.\n",
      "Human: Tell me a short story about electron.\n"
     ]
    }
   ],
   "source": [
    "# can also pass variables as a dictionary\n",
    "print(prompt_template.format(content_type=\"short story\", subject=\"electron\"))"
   ]
  },
  {
   "cell_type": "markdown",
   "id": "ca57243e-d9eb-4adb-83ea-eb7beab321cd",
   "metadata": {},
   "source": [
    "## Putting it all together\n",
    "Let's make a versatile chain that uses variables to change the prompt.\n"
   ]
  },
  {
   "cell_type": "code",
   "execution_count": 59,
   "id": "62d473ce-164e-4463-8ffd-57c1f8c2b621",
   "metadata": {},
   "outputs": [],
   "source": [
    "# prompt template\n",
    "messages = [\n",
    "    (\"system\", \"You are a {personality} assistant.\"), \n",
    "    (\"human\", \"Tell me a {content_type} about {subject}.\")\n",
    "]\n",
    "prompt_template = ChatPromptTemplate.from_messages(messages)\n",
    "\n",
    "# llm\n",
    "llm = ChatGroq(temperature=1, model=\"llama3-70b-8192\")\n",
    "\n",
    "# output parser\n",
    "parser = StrOutputParser()\n",
    "\n",
    "# Define the chain\n",
    "chain = prompt_template | llm | parser"
   ]
  },
  {
   "cell_type": "markdown",
   "id": "611e724e-0f56-414e-b75e-2c8bbb0f6da1",
   "metadata": {},
   "source": [
    "#### When invoking a chain, you must pass the prompt variables as a dictionary"
   ]
  },
  {
   "cell_type": "code",
   "execution_count": 60,
   "id": "5c46ee71-1670-4f85-bbfa-752ad0c293be",
   "metadata": {},
   "outputs": [
    {
     "name": "stdout",
     "output_type": "stream",
     "text": [
      "Here's one:\n",
      "\n",
      "Knock, knock!\n",
      "Who's there?\n",
      "Tusky.\n",
      "Tusky who?\n",
      "Tusky you later, I'm going to the jungle gym!\n"
     ]
    }
   ],
   "source": [
    "completion = chain.invoke(\n",
    "    {\"content_type\": \"knock-knock joke\", \n",
    "     \"subject\": \"elephants\",\n",
    "     \"personality\": \"friendly\"}\n",
    ")\n",
    "print(completion)"
   ]
  },
  {
   "cell_type": "code",
   "execution_count": 64,
   "id": "409404ea-b4e0-4fe3-af3b-1c3ab628e19e",
   "metadata": {},
   "outputs": [
    {
     "name": "stdout",
     "output_type": "stream",
     "text": [
      "**BREAKING: \"Ssss-scape in the City: Over 100 Venomous Snakes Slither Free from Reptile House After Storm Damages Enclosures; Residents Warned to Be Vigilant as Authorities Scramble to Contain Situation\"**\n"
     ]
    }
   ],
   "source": [
    "completion = chain.invoke(\n",
    "    {\"content_type\": \"news headline\", \n",
    "     \"subject\": \"escaped snakes\",\n",
    "     \"personality\": \"serious\"}\n",
    ")\n",
    "print(completion)"
   ]
  },
  {
   "cell_type": "code",
   "execution_count": 63,
   "id": "898d9399-c839-405a-b5e1-8eea9c75a645",
   "metadata": {},
   "outputs": [
    {
     "name": "stdout",
     "output_type": "stream",
     "text": [
      "Here's a silly advertisement about toothpaste:\n",
      "\n",
      "**Introducing \"Smile-O-Matic\" Toothpaste - The Toothpaste That'll Make You Smile (Literally!)**\n",
      "\n",
      "[Announcer voice] Are you tired of brushing your teeth with a toothpaste that's as boring as a lecture on crop rotation? Well, put down that snooze-fest toothpaste and pick up Smile-O-Matic Toothpaste, the most excitement-filled toothpaste on the market!\n",
      "\n",
      "With its unique blend of sparkles, glitter, and a hint of cotton candy flavor (just kidding, it's minty fresh, of course!), Smile-O-Matic Toothpaste is guaranteed to make you smile while you brush. And we're not just talking about a tiny, forced smile - we're talking about a full-on, teeth-shining, face-hurting smile!\n",
      "\n",
      "But wait, there's more! Our patented \"Tooth-Tastic\" formula not only whitens and strengthens your teeth, but also gives you a temporary (completely safe and non-permanent, don't worry!) sparkly smile that'll make you the envy of all your friends. Just imagine the Instagram selfies - \"Sparkling Smile Selfie Sunday,\" anyone?\n",
      "\n",
      "And, as if all that wasn't enough, our toothpaste comes in a specially designed \"Laugh-while-Brushing\" tube that plays a different hilarious joke or pun every time you squeeze out a pea-sized amount. We're talking groan-inducing jokes like, \"Why did the tooth go to the party? Because it wanted to get filled with fun!\" (Okay, maybe that one needs some work...)\n",
      "\n",
      "Get ready to brush your way to a brighter, more sparkling, more side-splitting smile with Smile-O-Matic Toothpaste! (Side effects may include excessive smiling, tooth-related puns, and spontaneous outbreaks of joy. Don't say we didn't warn you!)\n",
      "\n",
      "Order now and receive a complimentary toothbrush that looks like a miniature disco ball!\n"
     ]
    }
   ],
   "source": [
    "completion = chain.invoke(\n",
    "    {\"content_type\": \"advertisement\", \n",
    "     \"subject\": \"toothpaste\",\n",
    "     \"personality\": \"funny\"}\n",
    ")\n",
    "print(completion)"
   ]
  },
  {
   "cell_type": "code",
   "execution_count": null,
   "id": "8a074f10-6283-4f36-9970-1360d9cc0c47",
   "metadata": {},
   "outputs": [],
   "source": []
  },
  {
   "cell_type": "code",
   "execution_count": null,
   "id": "74d27dc4-772e-4782-91af-c9525467aa93",
   "metadata": {},
   "outputs": [],
   "source": []
  }
 ],
 "metadata": {
  "kernelspec": {
   "display_name": "Python [conda env:edu]",
   "language": "python",
   "name": "conda-env-edu-py"
  },
  "language_info": {
   "codemirror_mode": {
    "name": "ipython",
    "version": 3
   },
   "file_extension": ".py",
   "mimetype": "text/x-python",
   "name": "python",
   "nbconvert_exporter": "python",
   "pygments_lexer": "ipython3",
   "version": "3.12.3"
  },
  "widgets": {
   "application/vnd.jupyter.widget-state+json": {
    "state": {},
    "version_major": 2,
    "version_minor": 0
   }
  }
 },
 "nbformat": 4,
 "nbformat_minor": 5
}
